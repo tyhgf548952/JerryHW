{
 "cells": [
  {
   "cell_type": "code",
   "execution_count": 15,
   "metadata": {},
   "outputs": [],
   "source": [
    "def iron_man(iron_man_color):\n",
    "    if iron_man_color == \"紅色\":\n",
    "        return\"鋼鐵人盔甲是紅色的\"\n",
    "    elif iron_man_color==\"綠色\":\n",
    "        return\"鋼鐵⼈其實也可以參考浩克的顏⾊\" \n",
    "    elif iron_man_color==\"藍色\":\n",
    "        return\"鋼鐵⼈變成藍色小精靈也不錯\"\n",
    "    else:\n",
    "        return \"好像沒這種顏色\",iron_man_color"
   ]
  },
  {
   "cell_type": "code",
   "execution_count": 18,
   "metadata": {},
   "outputs": [
    {
     "data": {
      "text/plain": [
       "('好像沒這種顏色', 'XX')"
      ]
     },
     "execution_count": 18,
     "metadata": {},
     "output_type": "execute_result"
    }
   ],
   "source": [
    "iron_man_color =\"XX\"\n",
    "iron_man(iron_man_color)"
   ]
  },
  {
   "cell_type": "code",
   "execution_count": null,
   "metadata": {},
   "outputs": [],
   "source": []
  },
  {
   "cell_type": "code",
   "execution_count": null,
   "metadata": {},
   "outputs": [],
   "source": []
  }
 ],
 "metadata": {
  "kernelspec": {
   "display_name": "Python 3",
   "language": "python",
   "name": "python3"
  },
  "language_info": {
   "codemirror_mode": {
    "name": "ipython",
    "version": 3
   },
   "file_extension": ".py",
   "mimetype": "text/x-python",
   "name": "python",
   "nbconvert_exporter": "python",
   "pygments_lexer": "ipython3",
   "version": "3.6.4"
  }
 },
 "nbformat": 4,
 "nbformat_minor": 2
}
