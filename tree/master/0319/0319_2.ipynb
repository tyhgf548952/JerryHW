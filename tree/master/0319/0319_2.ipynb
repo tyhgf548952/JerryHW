{
 "cells": [
  {
   "cell_type": "code",
   "execution_count": 5,
   "metadata": {},
   "outputs": [
    {
     "name": "stdout",
     "output_type": "stream",
     "text": [
      "Guess lucky number!!5\n",
      "沒猜到\n",
      "Guess lucky number!!6\n",
      "沒猜到\n",
      "Guess lucky number!!8\n",
      "猜中了!\n"
     ]
    }
   ],
   "source": [
    "while True:\n",
    "    num = input(\"Guess lucky number!!\")\n",
    "    if num== \"8\":\n",
    "        print(\"猜中了!\")\n",
    "        break\n",
    "    print(\"沒猜到\")"
   ]
  }
 ],
 "metadata": {
  "kernelspec": {
   "display_name": "Python 3",
   "language": "python",
   "name": "python3"
  },
  "language_info": {
   "codemirror_mode": {
    "name": "ipython",
    "version": 3
   },
   "file_extension": ".py",
   "mimetype": "text/x-python",
   "name": "python",
   "nbconvert_exporter": "python",
   "pygments_lexer": "ipython3",
   "version": "3.6.4"
  }
 },
 "nbformat": 4,
 "nbformat_minor": 2
}
